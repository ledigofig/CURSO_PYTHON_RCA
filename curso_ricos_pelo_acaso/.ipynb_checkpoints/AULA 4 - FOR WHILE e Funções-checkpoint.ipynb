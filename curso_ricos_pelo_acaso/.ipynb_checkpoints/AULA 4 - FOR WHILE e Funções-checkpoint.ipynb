{
 "cells": [
  {
   "cell_type": "markdown",
   "metadata": {},
   "source": [
    "# For"
   ]
  },
  {
   "cell_type": "code",
   "execution_count": 1,
   "metadata": {},
   "outputs": [
    {
     "data": {
      "text/plain": [
       "[0, 1, 2, 3, 4, 5, 6, 7, 8, 9]"
      ]
     },
     "execution_count": 1,
     "metadata": {},
     "output_type": "execute_result"
    }
   ],
   "source": [
    "#for é um comando de repetição\n",
    "contador = [0,1,2,3,4,5,6,7,8,9]\n",
    "contador\n"
   ]
  },
  {
   "cell_type": "code",
   "execution_count": 2,
   "metadata": {},
   "outputs": [
    {
     "name": "stdout",
     "output_type": "stream",
     "text": [
      "0\n",
      "1\n",
      "2\n",
      "3\n",
      "4\n",
      "5\n",
      "6\n",
      "7\n",
      "8\n",
      "9\n"
     ]
    }
   ],
   "source": [
    "for valor in contador:\n",
    "    print(valor)\n",
    "\n",
    "    #implementa com base na lista um contador "
   ]
  },
  {
   "cell_type": "code",
   "execution_count": 4,
   "metadata": {},
   "outputs": [],
   "source": [
    "# ? no colabe mosta as opçoes daquele comando\n",
    "#obs - Funciona tambem no jupyuter nootebook\n",
    "range?\n"
   ]
  },
  {
   "cell_type": "code",
   "execution_count": 5,
   "metadata": {},
   "outputs": [
    {
     "name": "stdout",
     "output_type": "stream",
     "text": [
      "0\n",
      "1\n",
      "2\n",
      "3\n",
      "4\n",
      "5\n",
      "6\n",
      "7\n",
      "8\n",
      "9\n",
      "10\n",
      "11\n",
      "12\n",
      "13\n",
      "14\n",
      "15\n",
      "16\n",
      "17\n",
      "18\n",
      "19\n",
      "20\n",
      "21\n",
      "22\n",
      "23\n",
      "24\n",
      "25\n",
      "26\n",
      "27\n",
      "28\n",
      "29\n",
      "30\n",
      "31\n",
      "32\n",
      "33\n",
      "34\n",
      "35\n",
      "36\n",
      "37\n",
      "38\n",
      "39\n",
      "40\n",
      "41\n",
      "42\n",
      "43\n",
      "44\n",
      "45\n",
      "46\n",
      "47\n",
      "48\n",
      "49\n",
      "50\n",
      "51\n",
      "52\n",
      "53\n",
      "54\n",
      "55\n",
      "56\n",
      "57\n",
      "58\n",
      "59\n",
      "60\n",
      "61\n",
      "62\n",
      "63\n",
      "64\n",
      "65\n",
      "66\n",
      "67\n",
      "68\n",
      "69\n",
      "70\n",
      "71\n",
      "72\n",
      "73\n",
      "74\n",
      "75\n",
      "76\n",
      "77\n",
      "78\n",
      "79\n",
      "80\n",
      "81\n",
      "82\n",
      "83\n",
      "84\n",
      "85\n",
      "86\n",
      "87\n",
      "88\n",
      "89\n",
      "90\n",
      "91\n",
      "92\n",
      "93\n",
      "94\n",
      "95\n",
      "96\n",
      "97\n",
      "98\n",
      "99\n"
     ]
    }
   ],
   "source": [
    "for valor in range (100):\n",
    "    print(valor)"
   ]
  },
  {
   "cell_type": "code",
   "execution_count": 7,
   "metadata": {},
   "outputs": [
    {
     "name": "stdout",
     "output_type": "stream",
     "text": [
      "5\n",
      "8\n",
      "11\n",
      "14\n",
      "17\n",
      "20\n",
      "23\n",
      "26\n",
      "29\n",
      "32\n",
      "35\n",
      "38\n",
      "41\n",
      "44\n",
      "47\n"
     ]
    }
   ],
   "source": [
    "#fazendo um range diferente \n",
    "#começa em 5 e pecorre ate 50 saltando 3\n",
    "for i in range(5,50,3):\n",
    "    print(i)"
   ]
  },
  {
   "cell_type": "code",
   "execution_count": 11,
   "metadata": {},
   "outputs": [
    {
     "data": {
      "text/plain": [
       "[\"Figueirópolis d'Oeste\",\n",
       " 'Indiavai',\n",
       " 'Araputanga',\n",
       " \"Mirassol d'Oeste\",\n",
       " 'Jauru',\n",
       " 'Vale do São Domingos',\n",
       " 'Reserva do Cabaçal',\n",
       " 'Porto Eperidião',\n",
       " 'São Jose dos Quatro Marcos']"
      ]
     },
     "execution_count": 11,
     "metadata": {},
     "output_type": "execute_result"
    }
   ],
   "source": [
    "cidades  = [\"Figueirópolis d'Oeste\", 'Indiavai', 'Araputanga', \n",
    "         \"Mirassol d'Oeste\", \"Jauru\", 'Vale do São Domingos', \n",
    "         'Reserva do Cabaçal', 'Porto Eperidião','São Jose dos Quatro Marcos']\n",
    "cidades"
   ]
  },
  {
   "cell_type": "code",
   "execution_count": 12,
   "metadata": {},
   "outputs": [
    {
     "name": "stdout",
     "output_type": "stream",
     "text": [
      "Cidades proximas Figueirópolis d'Oeste\n",
      "Cidades proximas Indiavai\n",
      "Cidades proximas Araputanga\n",
      "Cidades proximas Mirassol d'Oeste\n",
      "Cidades proximas Jauru\n",
      "Cidades proximas Vale do São Domingos\n",
      "Cidades proximas Reserva do Cabaçal\n",
      "Cidades proximas Porto Eperidião\n",
      "Cidades proximas São Jose dos Quatro Marcos\n"
     ]
    }
   ],
   "source": [
    "#implementando for de cidades\n",
    "for cidades in cidades:\n",
    "    print('Cidades proximas '+cidades)"
   ]
  },
  {
   "cell_type": "code",
   "execution_count": 13,
   "metadata": {},
   "outputs": [
    {
     "name": "stdout",
     "output_type": "stream",
     "text": [
      "1\n",
      "2\n",
      "3\n",
      "4\n",
      "ledigo\n"
     ]
    }
   ],
   "source": [
    "lista = [1,2,3,4,'ledigo']\n",
    "for lista in lista:\n",
    "    print(lista)"
   ]
  },
  {
   "cell_type": "markdown",
   "metadata": {},
   "source": [
    "# While"
   ]
  },
  {
   "cell_type": "code",
   "execution_count": 15,
   "metadata": {},
   "outputs": [
    {
     "name": "stdout",
     "output_type": "stream",
     "text": [
      "0\n",
      "1\n",
      "2\n",
      "3\n",
      "4\n"
     ]
    }
   ],
   "source": [
    "x = 0\n",
    "while x < 5:\n",
    "    print(x)\n",
    "    x = x + 1"
   ]
  },
  {
   "cell_type": "markdown",
   "metadata": {},
   "source": [
    "# criando lista com for"
   ]
  },
  {
   "cell_type": "code",
   "execution_count": 17,
   "metadata": {},
   "outputs": [
    {
     "data": {
      "text/plain": [
       "[0, 1, 4, 9, 16, 25, 36, 49, 64, 81]"
      ]
     },
     "execution_count": 17,
     "metadata": {},
     "output_type": "execute_result"
    }
   ],
   "source": [
    "quadrados =[]\n",
    "for numero in range(10):\n",
    "    quadrados.append(numero**2)\n",
    "    \n",
    "quadrados"
   ]
  },
  {
   "cell_type": "code",
   "execution_count": 18,
   "metadata": {},
   "outputs": [
    {
     "data": {
      "text/plain": [
       "[0, 1, 4, 9, 16, 25, 36, 49, 64, 81]"
      ]
     },
     "execution_count": 18,
     "metadata": {},
     "output_type": "execute_result"
    }
   ],
   "source": [
    "#forma mais concisa de criar lista\n",
    "quadrado = [numero**2 for numero in range(10)]\n",
    "quadrado"
   ]
  },
  {
   "cell_type": "markdown",
   "metadata": {},
   "source": [
    "# Funçoes"
   ]
  },
  {
   "cell_type": "code",
   "execution_count": 19,
   "metadata": {},
   "outputs": [],
   "source": [
    "#função que não retorna valor\n",
    "def exibirMensagem(parametro):\n",
    "    print('Mensangem >> '+parametro)"
   ]
  },
  {
   "cell_type": "code",
   "execution_count": 20,
   "metadata": {},
   "outputs": [
    {
     "name": "stdout",
     "output_type": "stream",
     "text": [
      "Mensangem >> ola mundo!!!\n"
     ]
    }
   ],
   "source": [
    "exibirMensagem('ola mundo!!!')"
   ]
  },
  {
   "cell_type": "code",
   "execution_count": 31,
   "metadata": {},
   "outputs": [],
   "source": [
    "def exibirDados(nome,idade,sexo,cidade,estado):\n",
    "    print('Meu nome é {}'.format(nome))\n",
    "    print('tenho {} anos de idade'.format(idade))\n",
    "    print('sou do sexo {}'.format(sexo))\n",
    "    print('e moro na cidade de {}'.format(cidade))\n",
    "    print('no estado do {}'.format(estado))"
   ]
  },
  {
   "cell_type": "code",
   "execution_count": 32,
   "metadata": {},
   "outputs": [
    {
     "name": "stdout",
     "output_type": "stream",
     "text": [
      "Meu nome é Ordnael Zinid\n",
      "tenho 30 anos de idade\n",
      "sou do sexo Masculino\n",
      "e moro na cidade de Apucarama\n",
      "no estado do São Paulo\n"
     ]
    }
   ],
   "source": [
    "exibirDados('Ordnael Zinid',30,'Masculino','Apucarama','São Paulo')"
   ]
  },
  {
   "cell_type": "markdown",
   "metadata": {},
   "source": [
    "###### Fuçoes que reotrna valor"
   ]
  },
  {
   "cell_type": "code",
   "execution_count": 33,
   "metadata": {},
   "outputs": [],
   "source": [
    "def eleva_ao_quadrado(numero):\n",
    "    return numero **2"
   ]
  },
  {
   "cell_type": "code",
   "execution_count": 34,
   "metadata": {},
   "outputs": [
    {
     "data": {
      "text/plain": [
       "16"
      ]
     },
     "execution_count": 34,
     "metadata": {},
     "output_type": "execute_result"
    }
   ],
   "source": [
    "eleva_ao_quadrado(4)"
   ]
  },
  {
   "cell_type": "code",
   "execution_count": null,
   "metadata": {},
   "outputs": [],
   "source": []
  }
 ],
 "metadata": {
  "kernelspec": {
   "display_name": "Python 3",
   "language": "python",
   "name": "python3"
  },
  "language_info": {
   "codemirror_mode": {
    "name": "ipython",
    "version": 3
   },
   "file_extension": ".py",
   "mimetype": "text/x-python",
   "name": "python",
   "nbconvert_exporter": "python",
   "pygments_lexer": "ipython3",
   "version": "3.7.6"
  }
 },
 "nbformat": 4,
 "nbformat_minor": 4
}
