{
 "cells": [
  {
   "cell_type": "markdown",
   "metadata": {
    "colab_type": "text",
    "id": "kxdp8W-_-L0E"
   },
   "source": [
    "##Consideraçoes inicias\n",
    "\n",
    "> Começa em 2009\n",
    "\n",
    "> Indented block\n",
    "\n",
    "\n",
    "\n",
    "\n",
    "\n"
   ]
  },
  {
   "cell_type": "code",
   "execution_count": 1,
   "metadata": {
    "colab": {
     "base_uri": "https://localhost:8080/",
     "height": 237
    },
    "colab_type": "code",
    "id": "HDYND4FT1AZt",
    "outputId": "63b5d72d-6bf0-4b35-bbe6-f077e914598b"
   },
   "outputs": [
    {
     "name": "stderr",
     "output_type": "stream",
     "text": [
      "'python3' não é reconhecido como um comando interno\n",
      "ou externo, um programa operável ou um arquivo em lotes.\n",
      "'apt' não é reconhecido como um comando interno\n",
      "ou externo, um programa operável ou um arquivo em lotes.\n",
      "'cp' não é reconhecido como um comando interno\n",
      "ou externo, um programa operável ou um arquivo em lotes.\n"
     ]
    },
    {
     "name": "stdout",
     "output_type": "stream",
     "text": [
      "Collecting selenium\n",
      "  Downloading https://files.pythonhosted.org/packages/80/d6/4294f0b4bce4de0abf13e17190289f9d0613b0a44e5dd6a7f5ca98459853/selenium-3.141.0-py2.py3-none-any.whl (904kB)\n",
      "Requirement already satisfied: urllib3 in c:\\users\\leandro not\\appdata\\local\\continuum\\anaconda3\\lib\\site-packages (from selenium) (1.24.2)\n",
      "Installing collected packages: selenium\n",
      "Successfully installed selenium-3.141.0\n"
     ]
    }
   ],
   "source": [
    "#instalanodo plugin\n",
    "!python3 -m pip install selenium bs4\n",
    "\n",
    "!apt install chromium-chromedriver\n",
    "!cp /usr/lib/chromium-browser/chromedriver /usr/bin\n",
    "!pip install selenium"
   ]
  },
  {
   "cell_type": "code",
   "execution_count": 2,
   "metadata": {
    "colab": {
     "base_uri": "https://localhost:8080/",
     "height": 458
    },
    "colab_type": "code",
    "id": "YaBbQ6MG4Rzk",
    "outputId": "c342233b-a9b6-423c-ff1d-537192a9aef8"
   },
   "outputs": [
    {
     "name": "stdout",
     "output_type": "stream",
     "text": [
      "Requirement already satisfied: selenium in c:\\users\\leandro not\\appdata\\local\\continuum\\anaconda3\\lib\\site-packages (3.141.0)\n",
      "Requirement already satisfied: urllib3 in c:\\users\\leandro not\\appdata\\local\\continuum\\anaconda3\\lib\\site-packages (from selenium) (1.24.2)\n"
     ]
    },
    {
     "name": "stderr",
     "output_type": "stream",
     "text": [
      "'apt-get' não é reconhecido como um comando interno\n",
      "ou externo, um programa operável ou um arquivo em lotes.\n",
      "'apt' não é reconhecido como um comando interno\n",
      "ou externo, um programa operável ou um arquivo em lotes.\n",
      "'cp' não é reconhecido como um comando interno\n",
      "ou externo, um programa operável ou um arquivo em lotes.\n",
      "C:\\Users\\LEANDRO NOT\\AppData\\Local\\Continuum\\anaconda3\\lib\\site-packages\\ipykernel_launcher.py:13: DeprecationWarning: use options instead of chrome_options\n",
      "  del sys.path[0]\n"
     ]
    },
    {
     "ename": "WebDriverException",
     "evalue": "Message: 'chromedriver' executable needs to be in PATH. Please see https://sites.google.com/a/chromium.org/chromedriver/home\n",
     "output_type": "error",
     "traceback": [
      "\u001b[1;31m---------------------------------------------------------------------------\u001b[0m",
      "\u001b[1;31mFileNotFoundError\u001b[0m                         Traceback (most recent call last)",
      "\u001b[1;32m~\\AppData\\Local\\Continuum\\anaconda3\\lib\\site-packages\\selenium\\webdriver\\common\\service.py\u001b[0m in \u001b[0;36mstart\u001b[1;34m(self)\u001b[0m\n\u001b[0;32m     75\u001b[0m                                             \u001b[0mstderr\u001b[0m\u001b[1;33m=\u001b[0m\u001b[0mself\u001b[0m\u001b[1;33m.\u001b[0m\u001b[0mlog_file\u001b[0m\u001b[1;33m,\u001b[0m\u001b[1;33m\u001b[0m\u001b[1;33m\u001b[0m\u001b[0m\n\u001b[1;32m---> 76\u001b[1;33m                                             stdin=PIPE)\n\u001b[0m\u001b[0;32m     77\u001b[0m         \u001b[1;32mexcept\u001b[0m \u001b[0mTypeError\u001b[0m\u001b[1;33m:\u001b[0m\u001b[1;33m\u001b[0m\u001b[1;33m\u001b[0m\u001b[0m\n",
      "\u001b[1;32m~\\AppData\\Local\\Continuum\\anaconda3\\lib\\subprocess.py\u001b[0m in \u001b[0;36m__init__\u001b[1;34m(self, args, bufsize, executable, stdin, stdout, stderr, preexec_fn, close_fds, shell, cwd, env, universal_newlines, startupinfo, creationflags, restore_signals, start_new_session, pass_fds, encoding, errors, text)\u001b[0m\n\u001b[0;32m    774\u001b[0m                                 \u001b[0merrread\u001b[0m\u001b[1;33m,\u001b[0m \u001b[0merrwrite\u001b[0m\u001b[1;33m,\u001b[0m\u001b[1;33m\u001b[0m\u001b[1;33m\u001b[0m\u001b[0m\n\u001b[1;32m--> 775\u001b[1;33m                                 restore_signals, start_new_session)\n\u001b[0m\u001b[0;32m    776\u001b[0m         \u001b[1;32mexcept\u001b[0m\u001b[1;33m:\u001b[0m\u001b[1;33m\u001b[0m\u001b[1;33m\u001b[0m\u001b[0m\n",
      "\u001b[1;32m~\\AppData\\Local\\Continuum\\anaconda3\\lib\\subprocess.py\u001b[0m in \u001b[0;36m_execute_child\u001b[1;34m(self, args, executable, preexec_fn, close_fds, pass_fds, cwd, env, startupinfo, creationflags, shell, p2cread, p2cwrite, c2pread, c2pwrite, errread, errwrite, unused_restore_signals, unused_start_new_session)\u001b[0m\n\u001b[0;32m   1177\u001b[0m                                          \u001b[0mos\u001b[0m\u001b[1;33m.\u001b[0m\u001b[0mfspath\u001b[0m\u001b[1;33m(\u001b[0m\u001b[0mcwd\u001b[0m\u001b[1;33m)\u001b[0m \u001b[1;32mif\u001b[0m \u001b[0mcwd\u001b[0m \u001b[1;32mis\u001b[0m \u001b[1;32mnot\u001b[0m \u001b[1;32mNone\u001b[0m \u001b[1;32melse\u001b[0m \u001b[1;32mNone\u001b[0m\u001b[1;33m,\u001b[0m\u001b[1;33m\u001b[0m\u001b[1;33m\u001b[0m\u001b[0m\n\u001b[1;32m-> 1178\u001b[1;33m                                          startupinfo)\n\u001b[0m\u001b[0;32m   1179\u001b[0m             \u001b[1;32mfinally\u001b[0m\u001b[1;33m:\u001b[0m\u001b[1;33m\u001b[0m\u001b[1;33m\u001b[0m\u001b[0m\n",
      "\u001b[1;31mFileNotFoundError\u001b[0m: [WinError 2] O sistema não pode encontrar o arquivo especificado",
      "\nDuring handling of the above exception, another exception occurred:\n",
      "\u001b[1;31mWebDriverException\u001b[0m                        Traceback (most recent call last)",
      "\u001b[1;32m<ipython-input-2-d6ddad0b602f>\u001b[0m in \u001b[0;36m<module>\u001b[1;34m\u001b[0m\n\u001b[0;32m     11\u001b[0m \u001b[0mchrome_options\u001b[0m\u001b[1;33m.\u001b[0m\u001b[0madd_argument\u001b[0m\u001b[1;33m(\u001b[0m\u001b[1;34m'--no-sandbox'\u001b[0m\u001b[1;33m)\u001b[0m\u001b[1;33m\u001b[0m\u001b[1;33m\u001b[0m\u001b[0m\n\u001b[0;32m     12\u001b[0m \u001b[0mchrome_options\u001b[0m\u001b[1;33m.\u001b[0m\u001b[0madd_argument\u001b[0m\u001b[1;33m(\u001b[0m\u001b[1;34m'--disable-dev-shm-usage'\u001b[0m\u001b[1;33m)\u001b[0m\u001b[1;33m\u001b[0m\u001b[1;33m\u001b[0m\u001b[0m\n\u001b[1;32m---> 13\u001b[1;33m \u001b[0mwd\u001b[0m \u001b[1;33m=\u001b[0m \u001b[0mwebdriver\u001b[0m\u001b[1;33m.\u001b[0m\u001b[0mChrome\u001b[0m\u001b[1;33m(\u001b[0m\u001b[1;34m'chromedriver'\u001b[0m\u001b[1;33m,\u001b[0m\u001b[0mchrome_options\u001b[0m\u001b[1;33m=\u001b[0m\u001b[0mchrome_options\u001b[0m\u001b[1;33m)\u001b[0m\u001b[1;33m\u001b[0m\u001b[1;33m\u001b[0m\u001b[0m\n\u001b[0m\u001b[0;32m     14\u001b[0m \u001b[0mwd\u001b[0m\u001b[1;33m.\u001b[0m\u001b[0mget\u001b[0m\u001b[1;33m(\u001b[0m\u001b[1;34m\"https://www.webite-url.com\"\u001b[0m\u001b[1;33m)\u001b[0m\u001b[1;33m\u001b[0m\u001b[1;33m\u001b[0m\u001b[0m\n",
      "\u001b[1;32m~\\AppData\\Local\\Continuum\\anaconda3\\lib\\site-packages\\selenium\\webdriver\\chrome\\webdriver.py\u001b[0m in \u001b[0;36m__init__\u001b[1;34m(self, executable_path, port, options, service_args, desired_capabilities, service_log_path, chrome_options, keep_alive)\u001b[0m\n\u001b[0;32m     71\u001b[0m             \u001b[0mservice_args\u001b[0m\u001b[1;33m=\u001b[0m\u001b[0mservice_args\u001b[0m\u001b[1;33m,\u001b[0m\u001b[1;33m\u001b[0m\u001b[1;33m\u001b[0m\u001b[0m\n\u001b[0;32m     72\u001b[0m             log_path=service_log_path)\n\u001b[1;32m---> 73\u001b[1;33m         \u001b[0mself\u001b[0m\u001b[1;33m.\u001b[0m\u001b[0mservice\u001b[0m\u001b[1;33m.\u001b[0m\u001b[0mstart\u001b[0m\u001b[1;33m(\u001b[0m\u001b[1;33m)\u001b[0m\u001b[1;33m\u001b[0m\u001b[1;33m\u001b[0m\u001b[0m\n\u001b[0m\u001b[0;32m     74\u001b[0m \u001b[1;33m\u001b[0m\u001b[0m\n\u001b[0;32m     75\u001b[0m         \u001b[1;32mtry\u001b[0m\u001b[1;33m:\u001b[0m\u001b[1;33m\u001b[0m\u001b[1;33m\u001b[0m\u001b[0m\n",
      "\u001b[1;32m~\\AppData\\Local\\Continuum\\anaconda3\\lib\\site-packages\\selenium\\webdriver\\common\\service.py\u001b[0m in \u001b[0;36mstart\u001b[1;34m(self)\u001b[0m\n\u001b[0;32m     81\u001b[0m                 raise WebDriverException(\n\u001b[0;32m     82\u001b[0m                     \"'%s' executable needs to be in PATH. %s\" % (\n\u001b[1;32m---> 83\u001b[1;33m                         os.path.basename(self.path), self.start_error_message)\n\u001b[0m\u001b[0;32m     84\u001b[0m                 )\n\u001b[0;32m     85\u001b[0m             \u001b[1;32melif\u001b[0m \u001b[0merr\u001b[0m\u001b[1;33m.\u001b[0m\u001b[0merrno\u001b[0m \u001b[1;33m==\u001b[0m \u001b[0merrno\u001b[0m\u001b[1;33m.\u001b[0m\u001b[0mEACCES\u001b[0m\u001b[1;33m:\u001b[0m\u001b[1;33m\u001b[0m\u001b[1;33m\u001b[0m\u001b[0m\n",
      "\u001b[1;31mWebDriverException\u001b[0m: Message: 'chromedriver' executable needs to be in PATH. Please see https://sites.google.com/a/chromium.org/chromedriver/home\n"
     ]
    }
   ],
   "source": [
    "#ajuste e instalação selenium\n",
    "!pip install selenium\n",
    "!apt-get update # to update ubuntu to correctly run apt install\n",
    "!apt install chromium-chromedriver\n",
    "!cp /usr/lib/chromium-browser/chromedriver /usr/bin\n",
    "import sys\n",
    "sys.path.insert(0,'/usr/lib/chromium-browser/chromedriver')\n",
    "from selenium import webdriver\n",
    "chrome_options = webdriver.ChromeOptions()\n",
    "chrome_options.add_argument('--headless')\n",
    "chrome_options.add_argument('--no-sandbox')\n",
    "chrome_options.add_argument('--disable-dev-shm-usage')\n",
    "wd = webdriver.Chrome('chromedriver',chrome_options=chrome_options)\n",
    "wd.get(\"https://www.webite-url.com\")\n"
   ]
  },
  {
   "cell_type": "code",
   "execution_count": 1,
   "metadata": {
    "colab": {},
    "colab_type": "code",
    "id": "NvgaBfE81_1q"
   },
   "outputs": [],
   "source": [
    "#importando plugin\n",
    "import time\n",
    "import re\n",
    "\n",
    "from selenium import webdriver\n",
    "from selenium.webdriver.support.ui import Select\n",
    "from bs4 import BeautifulSoup\n"
   ]
  },
  {
   "cell_type": "code",
   "execution_count": 2,
   "metadata": {},
   "outputs": [],
   "source": [
    "from selenium.webdriver.firefox.firefox_binary import FirefoxBinary\n"
   ]
  },
  {
   "cell_type": "code",
   "execution_count": 3,
   "metadata": {
    "colab": {
     "base_uri": "https://localhost:8080/",
     "height": 54
    },
    "colab_type": "code",
    "id": "3ISGb8Go2hLs",
    "outputId": "e9712ac8-dd4d-4280-b969-fa41192e1f21"
   },
   "outputs": [],
   "source": [
    "#chamando plugin \n",
    "#wd = webdriver.Chrome('chromedriver',chrome_options=chrome_options)\n",
    "\n",
    "drive = webdriver.Firefox()#('chromedriver',chrome_options=chrome_options)\n",
    "drive.get('http://figueiropolis.meuci.com.br:5656/transparencia/')\n",
    "time.sleep(20)"
   ]
  },
  {
   "cell_type": "code",
   "execution_count": 7,
   "metadata": {
    "colab": {},
    "colab_type": "code",
    "id": "lN0UrzPX3a2j"
   },
   "outputs": [],
   "source": [
    "#pega os atribbutos de seleção de ano\n",
    "selecao_ano = drive.find_element_by_id(\"divNomeEntidadeHome\")\n",
    "#selecao_ano = drive.find_element_by_class_name(\"dxeListBoxItemRow\")"
   ]
  },
  {
   "cell_type": "code",
   "execution_count": null,
   "metadata": {
    "colab": {},
    "colab_type": "code",
    "id": "P89dOZx-BBP6"
   },
   "outputs": [],
   "source": []
  },
  {
   "cell_type": "code",
   "execution_count": 9,
   "metadata": {
    "colab": {},
    "colab_type": "code",
    "id": "1VPxhiCz79jR"
   },
   "outputs": [],
   "source": [
    "html = selecao_ano.get_attribute(\"innerHTML\")\n",
    "soup = BeautifulSoup(html,\"html.parser\")"
   ]
  },
  {
   "cell_type": "code",
   "execution_count": null,
   "metadata": {
    "colab": {},
    "colab_type": "code",
    "id": "ABDM22T-kYhh"
   },
   "outputs": [],
   "source": []
  },
  {
   "cell_type": "code",
   "execution_count": 10,
   "metadata": {
    "colab": {
     "base_uri": "https://localhost:8080/",
     "height": 1000
    },
    "colab_type": "code",
    "id": "kDt6pfrm8By_",
    "outputId": "538c5e5c-a065-4e30-f222-ba9f9e942800"
   },
   "outputs": [
    {
     "name": "stdout",
     "output_type": "stream",
     "text": [
      "\n",
      "<div id=\"divLinha1\" style=\"margin:5px;\">\n",
      "<div style=\"width:160px; float:left;\"><span id=\"lblExercicioDesc\">Escolha o Exercício:</span></div>\n",
      "<table cellpadding=\"0\" cellspacing=\"1\" class=\"dxeButtonEdit\" id=\"cmbExercicio\" style=\"font-size:13px; width: 85px;\">\n",
      "<tbody><tr>\n",
      "<td style=\"display:none;\"><input id=\"cmbExercicio_VI\" name=\"cmbExercicio_VI\" type=\"hidden\" value=\"2020\"/></td><td class=\"dxic\" onmousedown=\"return aspxDDDropDown('cmbExercicio', event)\" style=\"width:100%;\"><input autocomplete=\"off\" class=\"dxeEditArea dxeEditAreaSys\" id=\"cmbExercicio_I\" name=\"cmbExercicio\" onblur=\"aspxELostFocus('cmbExercicio')\" onchange=\"aspxETextChanged('cmbExercicio')\" onfocus=\"aspxEGotFocus('cmbExercicio')\" readonly=\"readonly\" style=\"margin-left:1px;margin-right:1px;margin-top:1px;margin-bottom:2px;cursor:default;\" type=\"text\" value=\"2020\"/></td><td class=\"dxeButtonEditButton\" id=\"cmbExercicio_B-1\" onmousedown=\"return aspxDDDropDown('cmbExercicio', event)\" style=\"-moz-user-select:none;\"><table cellpadding=\"0\" cellspacing=\"0\" class=\"dxbebt\" style=\"border-collapse:collapse;border-collapse:separate;\">\n",
      "<tbody><tr>\n",
      "<td class=\"dx\"><img alt=\"v\" class=\"dxEditors_edtDropDown\" id=\"cmbExercicio_B-1Img\" src=\"/Transparencia/DXR.axd?r=1_3-U4tE2\" style=\"border-width:0px;\"/></td>\n",
      "</tr>\n",
      "</tbody></table></td>\n",
      "</tr>\n",
      "</tbody></table><input id=\"cmbExercicio_DDDWS\" name=\"cmbExercicio_DDDWS\" type=\"hidden\" value=\"0:0:-1:-10000:-10000:0:-10000:-10000:1\"/><div id=\"cmbExercicio_DDD_PW-1\" style=\"position:absolute;left:0px;top:0px;z-index:10000;visibility:hidden;display:none;\">\n",
      "<table cellpadding=\"0\" cellspacing=\"0\" id=\"cmbExercicio_DDD_PWST-1\" style=\"border-collapse:collapse;border-collapse:separate;position:relative;\">\n",
      "<tbody><tr>\n",
      "<td onmousedown=\"aspxPWMDown(event,'cmbExercicio_DDD',-1,false)\" style=\"width:200px;cursor:default;\"><table cellpadding=\"0\" cellspacing=\"0\" id=\"cmbExercicio_DDD_CLW-1\" style=\"width:200px;border-collapse:collapse;border-collapse:separate;\">\n",
      "<tbody><tr>\n",
      "<td id=\"cmbExercicio_DDD_PWC-1\" style=\"height:100%;\"><input id=\"cmbExercicio_DDD_LDeletedItems\" name=\"cmbExercicio_DDD_LDeletedItems\" type=\"hidden\" value=\"\"/><input id=\"cmbExercicio_DDD_LInsertedItems\" name=\"cmbExercicio_DDD_LInsertedItems\" type=\"hidden\" value=\"\"/><input id=\"cmbExercicio_DDD_LCustomCallback\" name=\"cmbExercicio_DDD_LCustomCallback\" type=\"hidden\" value=\"\"/><table cellpadding=\"0\" cellspacing=\"0\" class=\"dxeListBox\" id=\"cmbExercicio_DDD_L\" style=\"border-collapse:collapse;border-collapse:separate;\">\n",
      "<tbody><tr>\n",
      "<td valign=\"top\"><div class=\"dxlbd\" id=\"cmbExercicio_DDD_L_D\" style=\"width: 100%; overflow: hidden;\">\n",
      "<input id=\"cmbExercicio_DDD_L_VI\" name=\"cmbExercicio$DDD$L\" type=\"hidden\" value=\"2020\"/><table cellpadding=\"0\" cellspacing=\"0\" style=\"border-collapse:collapse;border-collapse:separate;visibility:hidden!important;display:none!important;\">\n",
      "<tbody><tr class=\"dxeListBoxItemRow\" id=\"cmbExercicio_DDD_L_LBI-1\">\n",
      "<td class=\"dxeListBoxItem\" id=\"cmbExercicio_DDD_L_LBI-1T0\"> </td>\n",
      "</tr>\n",
      "</tbody></table><table cellpadding=\"0\" cellspacing=\"0\" id=\"cmbExercicio_DDD_L_LBT\" style=\"width:100%;border-collapse:collapse;border-collapse:separate;\">\n",
      "<tbody><tr class=\"dxeListBoxItemRow\">\n",
      "<td class=\"dxeListBoxItem\" id=\"cmbExercicio_DDD_L_LBI0T0\">2014</td>\n",
      "</tr><tr class=\"dxeListBoxItemRow\">\n",
      "<td class=\"dxeListBoxItem\" id=\"cmbExercicio_DDD_L_LBI1T0\">2015</td>\n",
      "</tr><tr class=\"dxeListBoxItemRow\">\n",
      "<td class=\"dxeListBoxItem\" id=\"cmbExercicio_DDD_L_LBI2T0\">2016</td>\n",
      "</tr><tr class=\"dxeListBoxItemRow\">\n",
      "<td class=\"dxeListBoxItem\" id=\"cmbExercicio_DDD_L_LBI3T0\">2017</td>\n",
      "</tr><tr class=\"dxeListBoxItemRow\">\n",
      "<td class=\"dxeListBoxItem\" id=\"cmbExercicio_DDD_L_LBI4T0\">2018</td>\n",
      "</tr><tr class=\"dxeListBoxItemRow\">\n",
      "<td class=\"dxeListBoxItem\" id=\"cmbExercicio_DDD_L_LBI5T0\">2019</td>\n",
      "</tr><tr class=\"dxeListBoxItemRow\">\n",
      "<td class=\"dxeListBoxItem dxeListBoxItemSelected\" id=\"cmbExercicio_DDD_L_LBI6T0\">2020</td>\n",
      "</tr>\n",
      "</tbody></table>\n",
      "</div></td>\n",
      "</tr>\n",
      "</tbody></table><script id=\"dxss_999602059\" type=\"text/javascript\">\n",
      "<!--\n",
      "aspxAddDisabledItems('cmbExercicio_DDD_L',[[['dxeDisabled'],[''],['']]]);\n",
      "\n",
      "var dxo = new ASPxClientListBox('cmbExercicio_DDD_L');\n",
      "window['cmbExercicio_DDD_L'] = dxo;\n",
      "dxo.uniqueID = 'cmbExercicio$DDD$L';\n",
      "dxo.SelectedIndexChanged.AddHandler(function (s, e) { aspxCBLBSelectedIndexChanged('cmbExercicio', e); });\n",
      "dxo.ItemClick.AddHandler(function (s, e) { aspxCBLBItemMouseUp('cmbExercicio', e); });\n",
      "dxo.RequireStyleDecoration();\n",
      "dxo.styleDecoration.AddStyle('F','dxeFocused','');\n",
      "dxo.savedSelectedIndex = 6;\n",
      "dxo.itemsValue=['2014','2015','2016','2017','2018','2019','2020'];\n",
      "dxo.isComboBoxList = true;\n",
      "dxo.hasSampleItem = true;\n",
      "dxo.hoverClasses=['dxeListBoxItemHover'];\n",
      "dxo.selectedClasses=['dxeListBoxItemSelected'];\n",
      "dxo.disabledClasses=['dxeDisabled'];\n",
      "dxo.InlineInitialize();\n",
      "\n",
      "//-->\n",
      "</script></td>\n",
      "</tr>\n",
      "</tbody></table></td><td style=\"background:url('/Transparencia/DXR.axd?r=1_18-U4tE2') no-repeat left top;\"></td>\n",
      "</tr><tr>\n",
      "<td style=\"background:url('/Transparencia/DXR.axd?r=1_17-U4tE2') no-repeat left top;\"></td><td style=\"background:url('/Transparencia/DXR.axd?r=1_19-U4tE2') no-repeat left top;\"><div style=\"height:5px;width:5px;\">\n",
      "</div></td>\n",
      "</tr>\n",
      "</tbody></table>\n",
      "</div><script id=\"dxss_1342317480\" type=\"text/javascript\">\n",
      "<!--\n",
      "\n",
      "var dxo = new ASPxClientPopupControl('cmbExercicio_DDD');\n",
      "window['cmbExercicio_DDD'] = dxo;\n",
      "dxo.uniqueID = 'cmbExercicio$DDD';\n",
      "dxo.Shown.AddHandler(function (s, e) { aspxDDBPCShown('cmbExercicio', e); });\n",
      "dxo.adjustInnerControlsSizeOnShow=false;\n",
      "dxo.closeAction='CloseButton';\n",
      "dxo.popupHorizontalAlign='LeftSides';\n",
      "dxo.popupVerticalAlign='Below';\n",
      "dxo.isPopupPositionCorrectionOn=false;\n",
      "dxo.width=0;\n",
      "dxo.height=0;\n",
      "dxo.InlineInitialize();\n",
      "\n",
      "//-->\n",
      "</script><div align=\"center\" id=\"cmbExercicio_LP\" style=\"left:0px;top:0px;z-index:30000;display:none;\">\n",
      "<table cellpadding=\"0\" cellspacing=\"0\" class=\"dxeLoadingPanel\" style=\"height:100%;border-collapse:collapse;\">\n",
      "<tbody><tr>\n",
      "<td class=\"dx\" style=\"padding-right:8px;\"><img align=\"middle\" alt=\"\" src=\"/Transparencia/DXR.axd?r=2_12-U4tE2\" style=\"border-width:0px;\"/></td><td class=\"dx\" style=\"padding-left:0px;\">Loading…</td>\n",
      "</tr>\n",
      "</tbody></table>\n",
      "</div><div class=\"dxeLoadingDiv\" id=\"cmbExercicio_LD\" style=\"left:0px;top:0px;z-index:29999;display:none;position:absolute;\">\n",
      "</div><script id=\"dxss_853843286\" type=\"text/javascript\">\n",
      "<!--\n",
      "aspxAddHoverItems('cmbExercicio',[[['dxeButtonEditButtonHover'],[''],['B-1'],,[['']],['Img']]]);\n",
      "aspxAddPressedItems('cmbExercicio',[[['dxeButtonEditButtonPressed'],[''],['B-1'],,[['']],['Img']]]);\n",
      "aspxAddDisabledItems('cmbExercicio',[[['dxeDisabled'],[''],['','I']],[['dxeDisabled dxeButtonDisabled'],[''],['B-1'],,[[{'spriteCssClass':'dxEditors_edtDropDownDisabled'}]],['Img']]]);\n",
      "document.getElementById(\"cmbExercicio_I\").setAttribute(\"autocomplete\", \"off\");\n",
      "\n",
      "var dxo = new ASPxClientComboBox('cmbExercicio');\n",
      "window['cmbExercicio'] = dxo;\n",
      "dxo.autoPostBack = true;\n",
      "dxo.callBack = function(arg) { WebForm_DoCallback('cmbExercicio',arg,aspxCallback,'cmbExercicio',aspxCallbackError,true); };\n",
      "dxo.RequireStyleDecoration();\n",
      "dxo.styleDecoration.AddStyle('F','dxeFocused','');\n",
      "dxo.InlineInitialize();\n",
      "\n",
      "//-->\n",
      "</script>\n",
      "</div>\n",
      "<div id=\"divLinha2\" style=\"margin:5px;\">\n",
      "<div style=\"width:160px; float:left;\"><span id=\"lblEntidade\">Escolha a Entidade:</span></div>\n",
      "<table cellpadding=\"0\" cellspacing=\"1\" class=\"dxeButtonEdit\" id=\"cmbEntidadeContabil\" style=\"font-size:13px; width: 500px;\">\n",
      "<tbody><tr>\n",
      "<td style=\"display:none;\"><input id=\"cmbEntidadeContabil_VI\" name=\"cmbEntidadeContabil_VI\" type=\"hidden\" value=\"1\"/></td><td class=\"dxic\" onmousedown=\"return aspxDDDropDown('cmbEntidadeContabil', event)\" style=\"width:100%;\"><input autocomplete=\"off\" class=\"dxeEditArea dxeEditAreaSys\" id=\"cmbEntidadeContabil_I\" name=\"cmbEntidadeContabil\" onblur=\"aspxELostFocus('cmbEntidadeContabil')\" onchange=\"aspxETextChanged('cmbEntidadeContabil')\" onfocus=\"aspxEGotFocus('cmbEntidadeContabil')\" readonly=\"readonly\" style=\"margin-left:1px;margin-right:1px;margin-top:1px;margin-bottom:2px;cursor:default;\" type=\"text\" value=\"PREFEITURA MUNICIPAL DE FIGUEIROPOLIS DOESTE\"/></td><td class=\"dxeButtonEditButton\" id=\"cmbEntidadeContabil_B-1\" onmousedown=\"return aspxDDDropDown('cmbEntidadeContabil', event)\" style=\"-moz-user-select:none;\"><table cellpadding=\"0\" cellspacing=\"0\" class=\"dxbebt\" style=\"border-collapse:collapse;border-collapse:separate;\">\n",
      "<tbody><tr>\n",
      "<td class=\"dx\"><img alt=\"v\" class=\"dxEditors_edtDropDown\" id=\"cmbEntidadeContabil_B-1Img\" src=\"/Transparencia/DXR.axd?r=1_3-U4tE2\" style=\"border-width:0px;\"/></td>\n",
      "</tr>\n",
      "</tbody></table></td>\n",
      "</tr>\n",
      "</tbody></table><input id=\"cmbEntidadeContabil_DDDWS\" name=\"cmbEntidadeContabil_DDDWS\" type=\"hidden\" value=\"0:0:-1:-10000:-10000:0:-10000:-10000:1\"/><div id=\"cmbEntidadeContabil_DDD_PW-1\" style=\"position:absolute;left:0px;top:0px;z-index:10000;visibility:hidden;display:none;\">\n",
      "<table cellpadding=\"0\" cellspacing=\"0\" id=\"cmbEntidadeContabil_DDD_PWST-1\" style=\"border-collapse:collapse;border-collapse:separate;position:relative;\">\n",
      "<tbody><tr>\n",
      "<td onmousedown=\"aspxPWMDown(event,'cmbEntidadeContabil_DDD',-1,false)\" style=\"width:200px;cursor:default;\"><table cellpadding=\"0\" cellspacing=\"0\" id=\"cmbEntidadeContabil_DDD_CLW-1\" style=\"width:200px;border-collapse:collapse;border-collapse:separate;\">\n",
      "<tbody><tr>\n",
      "<td id=\"cmbEntidadeContabil_DDD_PWC-1\" style=\"height:100%;\"><input id=\"cmbEntidadeContabil_DDD_LDeletedItems\" name=\"cmbEntidadeContabil_DDD_LDeletedItems\" type=\"hidden\" value=\"\"/><input id=\"cmbEntidadeContabil_DDD_LInsertedItems\" name=\"cmbEntidadeContabil_DDD_LInsertedItems\" type=\"hidden\" value=\"\"/><input id=\"cmbEntidadeContabil_DDD_LCustomCallback\" name=\"cmbEntidadeContabil_DDD_LCustomCallback\" type=\"hidden\" value=\"\"/><table cellpadding=\"0\" cellspacing=\"0\" class=\"dxeListBox\" id=\"cmbEntidadeContabil_DDD_L\" style=\"border-collapse:collapse;border-collapse:separate;\">\n",
      "<tbody><tr>\n",
      "<td valign=\"top\"><div class=\"dxlbd\" id=\"cmbEntidadeContabil_DDD_L_D\" style=\"width: 100%; overflow: hidden;\">\n",
      "<input id=\"cmbEntidadeContabil_DDD_L_VI\" name=\"cmbEntidadeContabil$DDD$L\" type=\"hidden\" value=\"1\"/><table cellpadding=\"0\" cellspacing=\"0\" style=\"border-collapse:collapse;border-collapse:separate;visibility:hidden!important;display:none!important;\">\n",
      "<tbody><tr class=\"dxeListBoxItemRow\" id=\"cmbEntidadeContabil_DDD_L_LBI-1\">\n",
      "<td class=\"dxeListBoxItem\" id=\"cmbEntidadeContabil_DDD_L_LBI-1T0\"> </td>\n",
      "</tr>\n",
      "</tbody></table><table cellpadding=\"0\" cellspacing=\"0\" id=\"cmbEntidadeContabil_DDD_L_LBT\" style=\"width:100%;border-collapse:collapse;border-collapse:separate;\">\n",
      "<tbody><tr class=\"dxeListBoxItemRow\">\n",
      "<td class=\"dxeListBoxItem dxeListBoxItemSelected dxeListBoxItemHover\" id=\"cmbEntidadeContabil_DDD_L_LBI0T0\">PREFEITURA MUNICIPAL DE FIGUEIROPOLIS DOESTE</td>\n",
      "</tr>\n",
      "</tbody></table>\n",
      "</div></td>\n",
      "</tr>\n",
      "</tbody></table><script id=\"dxss_1014710691\" type=\"text/javascript\">\n",
      "<!--\n",
      "aspxAddDisabledItems('cmbEntidadeContabil_DDD_L',[[['dxeDisabled'],[''],['']]]);\n",
      "\n",
      "var dxo = new ASPxClientListBox('cmbEntidadeContabil_DDD_L');\n",
      "window['cmbEntidadeContabil_DDD_L'] = dxo;\n",
      "dxo.uniqueID = 'cmbEntidadeContabil$DDD$L';\n",
      "dxo.SelectedIndexChanged.AddHandler(function (s, e) { aspxCBLBSelectedIndexChanged('cmbEntidadeContabil', e); });\n",
      "dxo.ItemClick.AddHandler(function (s, e) { aspxCBLBItemMouseUp('cmbEntidadeContabil', e); });\n",
      "dxo.RequireStyleDecoration();\n",
      "dxo.styleDecoration.AddStyle('F','dxeFocused','');\n",
      "dxo.savedSelectedIndex = 0;\n",
      "dxo.itemsValue=['1'];\n",
      "dxo.isComboBoxList = true;\n",
      "dxo.hasSampleItem = true;\n",
      "dxo.hoverClasses=['dxeListBoxItemHover'];\n",
      "dxo.selectedClasses=['dxeListBoxItemSelected'];\n",
      "dxo.disabledClasses=['dxeDisabled'];\n",
      "dxo.InlineInitialize();\n",
      "\n",
      "//-->\n",
      "</script></td>\n",
      "</tr>\n",
      "</tbody></table></td><td style=\"background:url('/Transparencia/DXR.axd?r=1_18-U4tE2') no-repeat left top;\"></td>\n",
      "</tr><tr>\n",
      "<td style=\"background:url('/Transparencia/DXR.axd?r=1_17-U4tE2') no-repeat left top;\"></td><td style=\"background:url('/Transparencia/DXR.axd?r=1_19-U4tE2') no-repeat left top;\"><div style=\"height:5px;width:5px;\">\n",
      "</div></td>\n",
      "</tr>\n",
      "</tbody></table>\n",
      "</div><script id=\"dxss_1029292552\" type=\"text/javascript\">\n",
      "<!--\n",
      "\n",
      "var dxo = new ASPxClientPopupControl('cmbEntidadeContabil_DDD');\n",
      "window['cmbEntidadeContabil_DDD'] = dxo;\n",
      "dxo.uniqueID = 'cmbEntidadeContabil$DDD';\n",
      "dxo.Shown.AddHandler(function (s, e) { aspxDDBPCShown('cmbEntidadeContabil', e); });\n",
      "dxo.adjustInnerControlsSizeOnShow=false;\n",
      "dxo.closeAction='CloseButton';\n",
      "dxo.popupHorizontalAlign='LeftSides';\n",
      "dxo.popupVerticalAlign='Below';\n",
      "dxo.isPopupPositionCorrectionOn=false;\n",
      "dxo.width=0;\n",
      "dxo.height=0;\n",
      "dxo.InlineInitialize();\n",
      "\n",
      "//-->\n",
      "</script><div align=\"center\" id=\"cmbEntidadeContabil_LP\" style=\"left:0px;top:0px;z-index:30000;display:none;\">\n",
      "<table cellpadding=\"0\" cellspacing=\"0\" class=\"dxeLoadingPanel\" style=\"height:100%;border-collapse:collapse;\">\n",
      "<tbody><tr>\n",
      "<td class=\"dx\" style=\"padding-right:8px;\"><img align=\"middle\" alt=\"\" src=\"/Transparencia/DXR.axd?r=2_12-U4tE2\" style=\"border-width:0px;\"/></td><td class=\"dx\" style=\"padding-left:0px;\">Loading…</td>\n",
      "</tr>\n",
      "</tbody></table>\n",
      "</div><div class=\"dxeLoadingDiv\" id=\"cmbEntidadeContabil_LD\" style=\"left:0px;top:0px;z-index:29999;display:none;position:absolute;\">\n",
      "</div><script id=\"dxss_1201932618\" type=\"text/javascript\">\n",
      "<!--\n",
      "aspxAddHoverItems('cmbEntidadeContabil',[[['dxeButtonEditButtonHover'],[''],['B-1'],,[['']],['Img']]]);\n",
      "aspxAddPressedItems('cmbEntidadeContabil',[[['dxeButtonEditButtonPressed'],[''],['B-1'],,[['']],['Img']]]);\n",
      "aspxAddDisabledItems('cmbEntidadeContabil',[[['dxeDisabled'],[''],['','I']],[['dxeDisabled dxeButtonDisabled'],[''],['B-1'],,[[{'spriteCssClass':'dxEditors_edtDropDownDisabled'}]],['Img']]]);\n",
      "document.getElementById(\"cmbEntidadeContabil_I\").setAttribute(\"autocomplete\", \"off\");\n",
      "\n",
      "var dxo = new ASPxClientComboBox('cmbEntidadeContabil');\n",
      "window['cmbEntidadeContabil'] = dxo;\n",
      "dxo.autoPostBack = true;\n",
      "dxo.callBack = function(arg) { WebForm_DoCallback('cmbEntidadeContabil',arg,aspxCallback,'cmbEntidadeContabil',aspxCallbackError,true); };\n",
      "dxo.RequireStyleDecoration();\n",
      "dxo.styleDecoration.AddStyle('F','dxeFocused','');\n",
      "dxo.InlineInitialize();\n",
      "\n",
      "//-->\n",
      "</script>\n",
      "</div>\n",
      "<span class=\"NomeEntidade fonteAcessibilidade\" id=\"lblNomeEntidade\" style=\"display:none;\">PREFEITURA MUNICIPAL DE FIGUEIROPOLIS DOESTE</span>\n",
      "<span class=\"Exercicio fonteAcessibilidade\" id=\"lblExercicio\" style=\"display:none;\">2020</span>\n",
      "<div>\n",
      "<!--<input type=\"image\" name=\"btnCallBack\" id=\"btnCallBack\" EnablePageMethods=\"true\" src=\"\" style=\"position:absolute; top:0px; left:0px; width:40px;height:40px;visibility:hidden;\" />-->\n",
      "<span class=\"TextoLabel fonteAcessibilidade\" id=\"lblUltimaAtualizacao\">Dados atualizados em: 12/03/2020</span>\n",
      "</div>\n",
      "\n"
     ]
    }
   ],
   "source": [
    "print(soup)"
   ]
  },
  {
   "cell_type": "code",
   "execution_count": 7,
   "metadata": {
    "colab": {
     "base_uri": "https://localhost:8080/",
     "height": 146
    },
    "colab_type": "code",
    "id": "bCKzfOf8-QHS",
    "outputId": "7fc91ce1-1199-419f-f950-390cdeb1dfeb"
   },
   "outputs": [
    {
     "data": {
      "text/plain": [
       "[<td class=\"dxeListBoxItem\" id=\"cmbExercicio_DDD_L_LBI0T0\">2014</td>,\n",
       " <td class=\"dxeListBoxItem\" id=\"cmbExercicio_DDD_L_LBI1T0\">2015</td>,\n",
       " <td class=\"dxeListBoxItem\" id=\"cmbExercicio_DDD_L_LBI2T0\">2016</td>,\n",
       " <td class=\"dxeListBoxItem\" id=\"cmbExercicio_DDD_L_LBI3T0\">2017</td>,\n",
       " <td class=\"dxeListBoxItem\" id=\"cmbExercicio_DDD_L_LBI4T0\">2018</td>,\n",
       " <td class=\"dxeListBoxItem\" id=\"cmbExercicio_DDD_L_LBI5T0\">2019</td>,\n",
       " <td class=\"dxeListBoxItem dxeListBoxItemSelected\" id=\"cmbExercicio_DDD_L_LBI6T0\">2020</td>]"
      ]
     },
     "execution_count": 7,
     "metadata": {},
     "output_type": "execute_result"
    }
   ],
   "source": [
    "#utilizando o sistema para fazer busca no ano\n",
    "busca =re.compile('20\\d\\d')#\\d é para procurar numero - Re-compile busca um termo correspondendo\n",
    "seleciona = soup.find_all( class_='dxeListBoxItem', text=busca)\n",
    "seleciona"
   ]
  },
  {
   "cell_type": "code",
   "execution_count": 6,
   "metadata": {
    "colab": {
     "base_uri": "https://localhost:8080/",
     "height": 35
    },
    "colab_type": "code",
    "id": "COU4aoiqk5OG",
    "outputId": "1bcf996d-f74b-44b2-c3df-9215efbbf55b"
   },
   "outputs": [
    {
     "ename": "NameError",
     "evalue": "name 'seleciona' is not defined",
     "output_type": "error",
     "traceback": [
      "\u001b[1;31m---------------------------------------------------------------------------\u001b[0m",
      "\u001b[1;31mNameError\u001b[0m                                 Traceback (most recent call last)",
      "\u001b[1;32m<ipython-input-6-34d766c4f162>\u001b[0m in \u001b[0;36m<module>\u001b[1;34m\u001b[0m\n\u001b[1;32m----> 1\u001b[1;33m \u001b[0mcontador\u001b[0m \u001b[1;33m=\u001b[0m \u001b[0mlen\u001b[0m\u001b[1;33m(\u001b[0m\u001b[0mseleciona\u001b[0m\u001b[1;33m)\u001b[0m\u001b[1;33m\u001b[0m\u001b[1;33m\u001b[0m\u001b[0m\n\u001b[0m\u001b[0;32m      2\u001b[0m \u001b[0mconti_ano\u001b[0m \u001b[1;33m=\u001b[0m \u001b[1;36m0\u001b[0m\u001b[1;33m\u001b[0m\u001b[1;33m\u001b[0m\u001b[0m\n\u001b[0;32m      3\u001b[0m \u001b[0mano_registrados\u001b[0m \u001b[1;33m=\u001b[0m \u001b[1;33m[\u001b[0m\u001b[1;33m]\u001b[0m\u001b[1;33m\u001b[0m\u001b[1;33m\u001b[0m\u001b[0m\n\u001b[0;32m      4\u001b[0m \u001b[1;32mwhile\u001b[0m \u001b[0mconti_ano\u001b[0m \u001b[1;33m<\u001b[0m \u001b[0mcontador\u001b[0m\u001b[1;33m:\u001b[0m\u001b[1;33m\u001b[0m\u001b[1;33m\u001b[0m\u001b[0m\n\u001b[0;32m      5\u001b[0m   \u001b[0msele\u001b[0m \u001b[1;33m=\u001b[0m \u001b[0mseleciona\u001b[0m\u001b[1;33m[\u001b[0m\u001b[0mconti_ano\u001b[0m\u001b[1;33m]\u001b[0m\u001b[1;33m.\u001b[0m\u001b[0mtext\u001b[0m\u001b[1;33m\u001b[0m\u001b[1;33m\u001b[0m\u001b[0m\n",
      "\u001b[1;31mNameError\u001b[0m: name 'seleciona' is not defined"
     ]
    }
   ],
   "source": [
    "contador = len(seleciona)\n",
    "conti_ano = 0\n",
    "ano_registrados = []\n",
    "while conti_ano < contador:\n",
    "  sele = seleciona[conti_ano].text\n",
    "  ano_registrados.append(sele)#append adciona numero a lista\n",
    "  conti_ano +=1\n",
    "\n",
    "print(ano_registrados)"
   ]
  },
  {
   "cell_type": "code",
   "execution_count": 8,
   "metadata": {
    "colab": {},
    "colab_type": "code",
    "id": "Tp_p08BgoshX"
   },
   "outputs": [
    {
     "ename": "ElementNotInteractableException",
     "evalue": "Message: Element <li id=\"lnkDespesasPor_NotaEmpenho\"> could not be scrolled into view\n",
     "output_type": "error",
     "traceback": [
      "\u001b[1;31m---------------------------------------------------------------------------\u001b[0m",
      "\u001b[1;31mElementNotInteractableException\u001b[0m           Traceback (most recent call last)",
      "\u001b[1;32m<ipython-input-8-807ca40fdea1>\u001b[0m in \u001b[0;36m<module>\u001b[1;34m\u001b[0m\n\u001b[0;32m      2\u001b[0m \u001b[0mpega_ano\u001b[0m \u001b[1;33m=\u001b[0m \u001b[0mselecao_ano\u001b[0m\u001b[1;33m.\u001b[0m\u001b[0mfind_element_by_xpath\u001b[0m\u001b[1;33m(\u001b[0m\u001b[1;34m'//li[@id=\"lnkDespesasPor_NotaEmpenho\"]'\u001b[0m\u001b[1;33m)\u001b[0m\u001b[1;33m\u001b[0m\u001b[1;33m\u001b[0m\u001b[0m\n\u001b[0;32m      3\u001b[0m \u001b[0mtime\u001b[0m\u001b[1;33m.\u001b[0m\u001b[0msleep\u001b[0m\u001b[1;33m(\u001b[0m\u001b[1;36m10\u001b[0m\u001b[1;33m)\u001b[0m\u001b[1;33m\u001b[0m\u001b[1;33m\u001b[0m\u001b[0m\n\u001b[1;32m----> 4\u001b[1;33m \u001b[0mpega_ano\u001b[0m\u001b[1;33m.\u001b[0m\u001b[0mclick\u001b[0m\u001b[1;33m(\u001b[0m\u001b[1;33m)\u001b[0m\u001b[1;33m\u001b[0m\u001b[1;33m\u001b[0m\u001b[0m\n\u001b[0m\u001b[0;32m      5\u001b[0m \u001b[0melement\u001b[0m \u001b[1;33m=\u001b[0m\u001b[0mdrive\u001b[0m\u001b[1;33m.\u001b[0m\u001b[0mfind_element_by_xpath\u001b[0m\u001b[1;33m(\u001b[0m\u001b[1;34m'/html/body'\u001b[0m\u001b[1;33m)\u001b[0m\u001b[1;33m\u001b[0m\u001b[1;33m\u001b[0m\u001b[0m\n\u001b[0;32m      6\u001b[0m \u001b[1;31m#time.sleep(10)\u001b[0m\u001b[1;33m\u001b[0m\u001b[1;33m\u001b[0m\u001b[1;33m\u001b[0m\u001b[0m\n",
      "\u001b[1;32m~\\AppData\\Local\\Continuum\\anaconda3\\lib\\site-packages\\selenium\\webdriver\\remote\\webelement.py\u001b[0m in \u001b[0;36mclick\u001b[1;34m(self)\u001b[0m\n\u001b[0;32m     78\u001b[0m     \u001b[1;32mdef\u001b[0m \u001b[0mclick\u001b[0m\u001b[1;33m(\u001b[0m\u001b[0mself\u001b[0m\u001b[1;33m)\u001b[0m\u001b[1;33m:\u001b[0m\u001b[1;33m\u001b[0m\u001b[1;33m\u001b[0m\u001b[0m\n\u001b[0;32m     79\u001b[0m         \u001b[1;34m\"\"\"Clicks the element.\"\"\"\u001b[0m\u001b[1;33m\u001b[0m\u001b[1;33m\u001b[0m\u001b[0m\n\u001b[1;32m---> 80\u001b[1;33m         \u001b[0mself\u001b[0m\u001b[1;33m.\u001b[0m\u001b[0m_execute\u001b[0m\u001b[1;33m(\u001b[0m\u001b[0mCommand\u001b[0m\u001b[1;33m.\u001b[0m\u001b[0mCLICK_ELEMENT\u001b[0m\u001b[1;33m)\u001b[0m\u001b[1;33m\u001b[0m\u001b[1;33m\u001b[0m\u001b[0m\n\u001b[0m\u001b[0;32m     81\u001b[0m \u001b[1;33m\u001b[0m\u001b[0m\n\u001b[0;32m     82\u001b[0m     \u001b[1;32mdef\u001b[0m \u001b[0msubmit\u001b[0m\u001b[1;33m(\u001b[0m\u001b[0mself\u001b[0m\u001b[1;33m)\u001b[0m\u001b[1;33m:\u001b[0m\u001b[1;33m\u001b[0m\u001b[1;33m\u001b[0m\u001b[0m\n",
      "\u001b[1;32m~\\AppData\\Local\\Continuum\\anaconda3\\lib\\site-packages\\selenium\\webdriver\\remote\\webelement.py\u001b[0m in \u001b[0;36m_execute\u001b[1;34m(self, command, params)\u001b[0m\n\u001b[0;32m    631\u001b[0m             \u001b[0mparams\u001b[0m \u001b[1;33m=\u001b[0m \u001b[1;33m{\u001b[0m\u001b[1;33m}\u001b[0m\u001b[1;33m\u001b[0m\u001b[1;33m\u001b[0m\u001b[0m\n\u001b[0;32m    632\u001b[0m         \u001b[0mparams\u001b[0m\u001b[1;33m[\u001b[0m\u001b[1;34m'id'\u001b[0m\u001b[1;33m]\u001b[0m \u001b[1;33m=\u001b[0m \u001b[0mself\u001b[0m\u001b[1;33m.\u001b[0m\u001b[0m_id\u001b[0m\u001b[1;33m\u001b[0m\u001b[1;33m\u001b[0m\u001b[0m\n\u001b[1;32m--> 633\u001b[1;33m         \u001b[1;32mreturn\u001b[0m \u001b[0mself\u001b[0m\u001b[1;33m.\u001b[0m\u001b[0m_parent\u001b[0m\u001b[1;33m.\u001b[0m\u001b[0mexecute\u001b[0m\u001b[1;33m(\u001b[0m\u001b[0mcommand\u001b[0m\u001b[1;33m,\u001b[0m \u001b[0mparams\u001b[0m\u001b[1;33m)\u001b[0m\u001b[1;33m\u001b[0m\u001b[1;33m\u001b[0m\u001b[0m\n\u001b[0m\u001b[0;32m    634\u001b[0m \u001b[1;33m\u001b[0m\u001b[0m\n\u001b[0;32m    635\u001b[0m     \u001b[1;32mdef\u001b[0m \u001b[0mfind_element\u001b[0m\u001b[1;33m(\u001b[0m\u001b[0mself\u001b[0m\u001b[1;33m,\u001b[0m \u001b[0mby\u001b[0m\u001b[1;33m=\u001b[0m\u001b[0mBy\u001b[0m\u001b[1;33m.\u001b[0m\u001b[0mID\u001b[0m\u001b[1;33m,\u001b[0m \u001b[0mvalue\u001b[0m\u001b[1;33m=\u001b[0m\u001b[1;32mNone\u001b[0m\u001b[1;33m)\u001b[0m\u001b[1;33m:\u001b[0m\u001b[1;33m\u001b[0m\u001b[1;33m\u001b[0m\u001b[0m\n",
      "\u001b[1;32m~\\AppData\\Local\\Continuum\\anaconda3\\lib\\site-packages\\selenium\\webdriver\\remote\\webdriver.py\u001b[0m in \u001b[0;36mexecute\u001b[1;34m(self, driver_command, params)\u001b[0m\n\u001b[0;32m    319\u001b[0m         \u001b[0mresponse\u001b[0m \u001b[1;33m=\u001b[0m \u001b[0mself\u001b[0m\u001b[1;33m.\u001b[0m\u001b[0mcommand_executor\u001b[0m\u001b[1;33m.\u001b[0m\u001b[0mexecute\u001b[0m\u001b[1;33m(\u001b[0m\u001b[0mdriver_command\u001b[0m\u001b[1;33m,\u001b[0m \u001b[0mparams\u001b[0m\u001b[1;33m)\u001b[0m\u001b[1;33m\u001b[0m\u001b[1;33m\u001b[0m\u001b[0m\n\u001b[0;32m    320\u001b[0m         \u001b[1;32mif\u001b[0m \u001b[0mresponse\u001b[0m\u001b[1;33m:\u001b[0m\u001b[1;33m\u001b[0m\u001b[1;33m\u001b[0m\u001b[0m\n\u001b[1;32m--> 321\u001b[1;33m             \u001b[0mself\u001b[0m\u001b[1;33m.\u001b[0m\u001b[0merror_handler\u001b[0m\u001b[1;33m.\u001b[0m\u001b[0mcheck_response\u001b[0m\u001b[1;33m(\u001b[0m\u001b[0mresponse\u001b[0m\u001b[1;33m)\u001b[0m\u001b[1;33m\u001b[0m\u001b[1;33m\u001b[0m\u001b[0m\n\u001b[0m\u001b[0;32m    322\u001b[0m             response['value'] = self._unwrap_value(\n\u001b[0;32m    323\u001b[0m                 response.get('value', None))\n",
      "\u001b[1;32m~\\AppData\\Local\\Continuum\\anaconda3\\lib\\site-packages\\selenium\\webdriver\\remote\\errorhandler.py\u001b[0m in \u001b[0;36mcheck_response\u001b[1;34m(self, response)\u001b[0m\n\u001b[0;32m    240\u001b[0m                 \u001b[0malert_text\u001b[0m \u001b[1;33m=\u001b[0m \u001b[0mvalue\u001b[0m\u001b[1;33m[\u001b[0m\u001b[1;34m'alert'\u001b[0m\u001b[1;33m]\u001b[0m\u001b[1;33m.\u001b[0m\u001b[0mget\u001b[0m\u001b[1;33m(\u001b[0m\u001b[1;34m'text'\u001b[0m\u001b[1;33m)\u001b[0m\u001b[1;33m\u001b[0m\u001b[1;33m\u001b[0m\u001b[0m\n\u001b[0;32m    241\u001b[0m             \u001b[1;32mraise\u001b[0m \u001b[0mexception_class\u001b[0m\u001b[1;33m(\u001b[0m\u001b[0mmessage\u001b[0m\u001b[1;33m,\u001b[0m \u001b[0mscreen\u001b[0m\u001b[1;33m,\u001b[0m \u001b[0mstacktrace\u001b[0m\u001b[1;33m,\u001b[0m \u001b[0malert_text\u001b[0m\u001b[1;33m)\u001b[0m\u001b[1;33m\u001b[0m\u001b[1;33m\u001b[0m\u001b[0m\n\u001b[1;32m--> 242\u001b[1;33m         \u001b[1;32mraise\u001b[0m \u001b[0mexception_class\u001b[0m\u001b[1;33m(\u001b[0m\u001b[0mmessage\u001b[0m\u001b[1;33m,\u001b[0m \u001b[0mscreen\u001b[0m\u001b[1;33m,\u001b[0m \u001b[0mstacktrace\u001b[0m\u001b[1;33m)\u001b[0m\u001b[1;33m\u001b[0m\u001b[1;33m\u001b[0m\u001b[0m\n\u001b[0m\u001b[0;32m    243\u001b[0m \u001b[1;33m\u001b[0m\u001b[0m\n\u001b[0;32m    244\u001b[0m     \u001b[1;32mdef\u001b[0m \u001b[0m_value_or_default\u001b[0m\u001b[1;33m(\u001b[0m\u001b[0mself\u001b[0m\u001b[1;33m,\u001b[0m \u001b[0mobj\u001b[0m\u001b[1;33m,\u001b[0m \u001b[0mkey\u001b[0m\u001b[1;33m,\u001b[0m \u001b[0mdefault\u001b[0m\u001b[1;33m)\u001b[0m\u001b[1;33m:\u001b[0m\u001b[1;33m\u001b[0m\u001b[1;33m\u001b[0m\u001b[0m\n",
      "\u001b[1;31mElementNotInteractableException\u001b[0m: Message: Element <li id=\"lnkDespesasPor_NotaEmpenho\"> could not be scrolled into view\n"
     ]
    }
   ],
   "source": [
    "#pegando dados do anos\n",
    "pega_ano = selecao_ano.find_element_by_xpath('//li[@id=\"lnkDespesasPor_NotaEmpenho\"]')\n",
    "time.sleep(10)\n",
    "pega_ano.click()\n",
    "element =drive.find_element_by_xpath('/html/body')\n",
    "#time.sleep(10)\n",
    "#ano_pego = pega_ano.click\n",
    "#print(ano_pego)"
   ]
  },
  {
   "cell_type": "code",
   "execution_count": 5,
   "metadata": {
    "colab": {
     "base_uri": "https://localhost:8080/",
     "height": 1000
    },
    "colab_type": "code",
    "id": "JoS0rjOmxTYm",
    "outputId": "49048325-8ff6-4410-f34d-0d4ceffef91b"
   },
   "outputs": [
    {
     "ename": "NameError",
     "evalue": "name 'element' is not defined",
     "output_type": "error",
     "traceback": [
      "\u001b[1;31m---------------------------------------------------------------------------\u001b[0m",
      "\u001b[1;31mNameError\u001b[0m                                 Traceback (most recent call last)",
      "\u001b[1;32m<ipython-input-5-2263217843ad>\u001b[0m in \u001b[0;36m<module>\u001b[1;34m\u001b[0m\n\u001b[1;32m----> 1\u001b[1;33m \u001b[0mhtml\u001b[0m \u001b[1;33m=\u001b[0m \u001b[0melement\u001b[0m\u001b[1;33m.\u001b[0m\u001b[0mget_attribute\u001b[0m\u001b[1;33m(\u001b[0m\u001b[1;34m\"innerHTML\"\u001b[0m\u001b[1;33m)\u001b[0m\u001b[1;33m\u001b[0m\u001b[1;33m\u001b[0m\u001b[0m\n\u001b[0m\u001b[0;32m      2\u001b[0m \u001b[0msoup\u001b[0m \u001b[1;33m=\u001b[0m \u001b[0mBeautifulSoup\u001b[0m\u001b[1;33m(\u001b[0m\u001b[0mhtml\u001b[0m\u001b[1;33m,\u001b[0m\u001b[1;34m\"html.parser\"\u001b[0m\u001b[1;33m)\u001b[0m\u001b[1;33m\u001b[0m\u001b[1;33m\u001b[0m\u001b[0m\n\u001b[0;32m      3\u001b[0m \u001b[0msoup\u001b[0m\u001b[1;33m\u001b[0m\u001b[1;33m\u001b[0m\u001b[0m\n",
      "\u001b[1;31mNameError\u001b[0m: name 'element' is not defined"
     ]
    }
   ],
   "source": [
    "html = element.get_attribute(\"innerHTML\")\n",
    "soup = BeautifulSoup(html,\"html.parser\")\n",
    "soup"
   ]
  },
  {
   "cell_type": "code",
   "execution_count": 12,
   "metadata": {
    "colab": {
     "base_uri": "https://localhost:8080/",
     "height": 172
    },
    "colab_type": "code",
    "id": "T4d02l8DxXq7",
    "outputId": "508ca63e-e6d4-436f-d142-1b33f1b06984"
   },
   "outputs": [
    {
     "ename": "TypeError",
     "evalue": "'NoneType' object is not callable",
     "output_type": "error",
     "traceback": [
      "\u001b[1;31m---------------------------------------------------------------------------\u001b[0m",
      "\u001b[1;31mTypeError\u001b[0m                                 Traceback (most recent call last)",
      "\u001b[1;32m<ipython-input-12-0c17fa2e1d40>\u001b[0m in \u001b[0;36m<module>\u001b[1;34m\u001b[0m\n\u001b[1;32m----> 1\u001b[1;33m \u001b[0msoup\u001b[0m\u001b[1;33m.\u001b[0m\u001b[0mfind_element_by_id\u001b[0m\u001b[1;33m(\u001b[0m\u001b[1;34m\"gridDespesas\"\u001b[0m\u001b[1;33m)\u001b[0m\u001b[1;33m\u001b[0m\u001b[1;33m\u001b[0m\u001b[0m\n\u001b[0m",
      "\u001b[1;31mTypeError\u001b[0m: 'NoneType' object is not callable"
     ]
    }
   ],
   "source": [
    "soup.find_element_by_id(\"gridDespesas\")"
   ]
  },
  {
   "cell_type": "code",
   "execution_count": null,
   "metadata": {
    "colab": {},
    "colab_type": "code",
    "id": "vbRjJnBZNhFZ"
   },
   "outputs": [],
   "source": [
    "https://www.youtube.com/watch?v=Vxl5jUltHBo"
   ]
  },
  {
   "cell_type": "code",
   "execution_count": null,
   "metadata": {
    "colab": {},
    "colab_type": "code",
    "id": "dVPvhEk0k6zE"
   },
   "outputs": [],
   "source": [
    "import requests\n"
   ]
  },
  {
   "cell_type": "code",
   "execution_count": null,
   "metadata": {
    "colab": {},
    "colab_type": "code",
    "id": "bFyUISJDwnqz"
   },
   "outputs": [],
   "source": [
    "r = requests.get('http://figueiropolis.meuci.com.br:5656/transparencia/')\n"
   ]
  },
  {
   "cell_type": "code",
   "execution_count": null,
   "metadata": {
    "colab": {},
    "colab_type": "code",
    "id": "WmblfLrjw781"
   },
   "outputs": [],
   "source": [
    "r.text"
   ]
  },
  {
   "cell_type": "code",
   "execution_count": null,
   "metadata": {
    "colab": {},
    "colab_type": "code",
    "id": "2STroG6axC1I"
   },
   "outputs": [],
   "source": [
    "payload={\"value\":\"2020\",'id':'lnkDespesasPor_NotaEmpenho'}\n",
    "r = requests.get('http://figueiropolis.meuci.com.br:5656/transparencia/',params=payload)\n"
   ]
  },
  {
   "cell_type": "code",
   "execution_count": null,
   "metadata": {
    "colab": {},
    "colab_type": "code",
    "id": "qihGgfOOxje7"
   },
   "outputs": [],
   "source": [
    "r.status_code"
   ]
  },
  {
   "cell_type": "code",
   "execution_count": null,
   "metadata": {
    "colab": {},
    "colab_type": "code",
    "id": "1kN0wekg0sbA"
   },
   "outputs": [],
   "source": [
    "r.url"
   ]
  },
  {
   "cell_type": "code",
   "execution_count": null,
   "metadata": {
    "colab": {},
    "colab_type": "code",
    "id": "ZAVMyw7Qx7rI"
   },
   "outputs": [],
   "source": [
    "soup_request = BeautifulSoup(r.content, 'html.parser')\n",
    "print(soup_request)"
   ]
  },
  {
   "cell_type": "code",
   "execution_count": null,
   "metadata": {
    "colab": {},
    "colab_type": "code",
    "id": "3h3qN3z1zanj"
   },
   "outputs": [],
   "source": []
  }
 ],
 "metadata": {
  "colab": {
   "name": "Monitorando_PMFO",
   "provenance": []
  },
  "kernelspec": {
   "display_name": "Python 3",
   "language": "python",
   "name": "python3"
  },
  "language_info": {
   "codemirror_mode": {
    "name": "ipython",
    "version": 3
   },
   "file_extension": ".py",
   "mimetype": "text/x-python",
   "name": "python",
   "nbconvert_exporter": "python",
   "pygments_lexer": "ipython3",
   "version": "3.7.4"
  }
 },
 "nbformat": 4,
 "nbformat_minor": 1
}
